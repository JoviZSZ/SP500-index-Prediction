{
 "cells": [
  {
   "cell_type": "code",
   "execution_count": 61,
   "metadata": {},
   "outputs": [],
   "source": [
    "import pandas as pd\n",
    "import datetime\n",
    "from datetime import date\n",
    "from collections import namedtuple\n",
    "import datetimerange\n",
    "from datetimerange import DateTimeRange"
   ]
  },
  {
   "cell_type": "code",
   "execution_count": 110,
   "metadata": {},
   "outputs": [],
   "source": [
    "train = pd.read_csv('./dataset/observations_train.csv')"
   ]
  },
  {
   "cell_type": "code",
   "execution_count": 11,
   "metadata": {},
   "outputs": [
    {
     "data": {
      "text/html": [
       "<div>\n",
       "<style scoped>\n",
       "    .dataframe tbody tr th:only-of-type {\n",
       "        vertical-align: middle;\n",
       "    }\n",
       "\n",
       "    .dataframe tbody tr th {\n",
       "        vertical-align: top;\n",
       "    }\n",
       "\n",
       "    .dataframe thead th {\n",
       "        text-align: right;\n",
       "    }\n",
       "</style>\n",
       "<table border=\"1\" class=\"dataframe\">\n",
       "  <thead>\n",
       "    <tr style=\"text-align: right;\">\n",
       "      <th></th>\n",
       "      <th>series_id</th>\n",
       "      <th>date</th>\n",
       "      <th>value</th>\n",
       "    </tr>\n",
       "  </thead>\n",
       "  <tbody>\n",
       "    <tr>\n",
       "      <th>0</th>\n",
       "      <td>AAA10Y</td>\n",
       "      <td>2000-01-03 00:00:00.0000000</td>\n",
       "      <td>1.17</td>\n",
       "    </tr>\n",
       "    <tr>\n",
       "      <th>1</th>\n",
       "      <td>AAA10Y</td>\n",
       "      <td>2000-01-04 00:00:00.0000000</td>\n",
       "      <td>1.20</td>\n",
       "    </tr>\n",
       "    <tr>\n",
       "      <th>2</th>\n",
       "      <td>AAA10Y</td>\n",
       "      <td>2000-01-05 00:00:00.0000000</td>\n",
       "      <td>1.16</td>\n",
       "    </tr>\n",
       "    <tr>\n",
       "      <th>3</th>\n",
       "      <td>AAA10Y</td>\n",
       "      <td>2000-01-06 00:00:00.0000000</td>\n",
       "      <td>1.15</td>\n",
       "    </tr>\n",
       "    <tr>\n",
       "      <th>4</th>\n",
       "      <td>AAA10Y</td>\n",
       "      <td>2000-01-07 00:00:00.0000000</td>\n",
       "      <td>1.17</td>\n",
       "    </tr>\n",
       "  </tbody>\n",
       "</table>\n",
       "</div>"
      ],
      "text/plain": [
       "  series_id                         date  value\n",
       "0    AAA10Y  2000-01-03 00:00:00.0000000   1.17\n",
       "1    AAA10Y  2000-01-04 00:00:00.0000000   1.20\n",
       "2    AAA10Y  2000-01-05 00:00:00.0000000   1.16\n",
       "3    AAA10Y  2000-01-06 00:00:00.0000000   1.15\n",
       "4    AAA10Y  2000-01-07 00:00:00.0000000   1.17"
      ]
     },
     "execution_count": 11,
     "metadata": {},
     "output_type": "execute_result"
    }
   ],
   "source": [
    "train.head()"
   ]
  },
  {
   "cell_type": "code",
   "execution_count": 12,
   "metadata": {},
   "outputs": [],
   "source": [
    "test = pd.read_csv('./dataset/observations_test.csv')"
   ]
  },
  {
   "cell_type": "code",
   "execution_count": 13,
   "metadata": {},
   "outputs": [
    {
     "data": {
      "text/html": [
       "<div>\n",
       "<style scoped>\n",
       "    .dataframe tbody tr th:only-of-type {\n",
       "        vertical-align: middle;\n",
       "    }\n",
       "\n",
       "    .dataframe tbody tr th {\n",
       "        vertical-align: top;\n",
       "    }\n",
       "\n",
       "    .dataframe thead th {\n",
       "        text-align: right;\n",
       "    }\n",
       "</style>\n",
       "<table border=\"1\" class=\"dataframe\">\n",
       "  <thead>\n",
       "    <tr style=\"text-align: right;\">\n",
       "      <th></th>\n",
       "      <th>series_id</th>\n",
       "      <th>date</th>\n",
       "      <th>value</th>\n",
       "    </tr>\n",
       "  </thead>\n",
       "  <tbody>\n",
       "    <tr>\n",
       "      <th>0</th>\n",
       "      <td>AAA10Y</td>\n",
       "      <td>2018-01-02 00:00:00.0000000</td>\n",
       "      <td>1.06</td>\n",
       "    </tr>\n",
       "    <tr>\n",
       "      <th>1</th>\n",
       "      <td>AAA10Y</td>\n",
       "      <td>2018-01-03 00:00:00.0000000</td>\n",
       "      <td>1.06</td>\n",
       "    </tr>\n",
       "    <tr>\n",
       "      <th>2</th>\n",
       "      <td>AAA10Y</td>\n",
       "      <td>2018-01-04 00:00:00.0000000</td>\n",
       "      <td>1.01</td>\n",
       "    </tr>\n",
       "    <tr>\n",
       "      <th>3</th>\n",
       "      <td>AAA10Y</td>\n",
       "      <td>2018-01-05 00:00:00.0000000</td>\n",
       "      <td>1.03</td>\n",
       "    </tr>\n",
       "    <tr>\n",
       "      <th>4</th>\n",
       "      <td>AAA10Y</td>\n",
       "      <td>2018-01-08 00:00:00.0000000</td>\n",
       "      <td>1.01</td>\n",
       "    </tr>\n",
       "  </tbody>\n",
       "</table>\n",
       "</div>"
      ],
      "text/plain": [
       "  series_id                         date  value\n",
       "0    AAA10Y  2018-01-02 00:00:00.0000000   1.06\n",
       "1    AAA10Y  2018-01-03 00:00:00.0000000   1.06\n",
       "2    AAA10Y  2018-01-04 00:00:00.0000000   1.01\n",
       "3    AAA10Y  2018-01-05 00:00:00.0000000   1.03\n",
       "4    AAA10Y  2018-01-08 00:00:00.0000000   1.01"
      ]
     },
     "execution_count": 13,
     "metadata": {},
     "output_type": "execute_result"
    }
   ],
   "source": [
    "test.head()"
   ]
  },
  {
   "cell_type": "code",
   "execution_count": 23,
   "metadata": {},
   "outputs": [],
   "source": [
    "series = pd.read_csv('./dataset/series.csv')"
   ]
  },
  {
   "cell_type": "code",
   "execution_count": 25,
   "metadata": {},
   "outputs": [],
   "source": [
    "daily = series[series['frequency']=='Daily']['series_id']"
   ]
  },
  {
   "cell_type": "code",
   "execution_count": 112,
   "metadata": {},
   "outputs": [
    {
     "data": {
      "text/plain": [
       "series_id     object\n",
       "date          object\n",
       "value        float64\n",
       "dtype: object"
      ]
     },
     "execution_count": 112,
     "metadata": {},
     "output_type": "execute_result"
    }
   ],
   "source": [
    "train.dtypes"
   ]
  },
  {
   "cell_type": "code",
   "execution_count": 117,
   "metadata": {},
   "outputs": [],
   "source": [
    "# timestamp convert to datetime\n",
    "train['date_t']=pd.to_datetime(train['date']).apply(lambda x: datetime.datetime(x.date().year, x.date().month, x.date().day))"
   ]
  },
  {
   "cell_type": "code",
   "execution_count": 118,
   "metadata": {},
   "outputs": [
    {
     "data": {
      "text/html": [
       "<div>\n",
       "<style scoped>\n",
       "    .dataframe tbody tr th:only-of-type {\n",
       "        vertical-align: middle;\n",
       "    }\n",
       "\n",
       "    .dataframe tbody tr th {\n",
       "        vertical-align: top;\n",
       "    }\n",
       "\n",
       "    .dataframe thead th {\n",
       "        text-align: right;\n",
       "    }\n",
       "</style>\n",
       "<table border=\"1\" class=\"dataframe\">\n",
       "  <thead>\n",
       "    <tr style=\"text-align: right;\">\n",
       "      <th></th>\n",
       "      <th>series_id</th>\n",
       "      <th>date</th>\n",
       "      <th>value</th>\n",
       "      <th>date_t</th>\n",
       "    </tr>\n",
       "  </thead>\n",
       "  <tbody>\n",
       "    <tr>\n",
       "      <th>0</th>\n",
       "      <td>AAA10Y</td>\n",
       "      <td>2000-01-03 00:00:00.0000000</td>\n",
       "      <td>1.17</td>\n",
       "      <td>2000-01-03</td>\n",
       "    </tr>\n",
       "    <tr>\n",
       "      <th>1</th>\n",
       "      <td>AAA10Y</td>\n",
       "      <td>2000-01-04 00:00:00.0000000</td>\n",
       "      <td>1.20</td>\n",
       "      <td>2000-01-04</td>\n",
       "    </tr>\n",
       "    <tr>\n",
       "      <th>2</th>\n",
       "      <td>AAA10Y</td>\n",
       "      <td>2000-01-05 00:00:00.0000000</td>\n",
       "      <td>1.16</td>\n",
       "      <td>2000-01-05</td>\n",
       "    </tr>\n",
       "    <tr>\n",
       "      <th>3</th>\n",
       "      <td>AAA10Y</td>\n",
       "      <td>2000-01-06 00:00:00.0000000</td>\n",
       "      <td>1.15</td>\n",
       "      <td>2000-01-06</td>\n",
       "    </tr>\n",
       "    <tr>\n",
       "      <th>4</th>\n",
       "      <td>AAA10Y</td>\n",
       "      <td>2000-01-07 00:00:00.0000000</td>\n",
       "      <td>1.17</td>\n",
       "      <td>2000-01-07</td>\n",
       "    </tr>\n",
       "  </tbody>\n",
       "</table>\n",
       "</div>"
      ],
      "text/plain": [
       "  series_id                         date  value     date_t\n",
       "0    AAA10Y  2000-01-03 00:00:00.0000000   1.17 2000-01-03\n",
       "1    AAA10Y  2000-01-04 00:00:00.0000000   1.20 2000-01-04\n",
       "2    AAA10Y  2000-01-05 00:00:00.0000000   1.16 2000-01-05\n",
       "3    AAA10Y  2000-01-06 00:00:00.0000000   1.15 2000-01-06\n",
       "4    AAA10Y  2000-01-07 00:00:00.0000000   1.17 2000-01-07"
      ]
     },
     "execution_count": 118,
     "metadata": {},
     "output_type": "execute_result"
    }
   ],
   "source": [
    "train.head()"
   ]
  },
  {
   "cell_type": "code",
   "execution_count": 100,
   "metadata": {},
   "outputs": [],
   "source": [
    "def find_overlap_date(range1, range2):\n",
    "    '''\n",
    "    Calculate the overlapped time range between two ranges.\n",
    "    \n",
    "    range1: pd.Series, dtype=str\n",
    "    range2: pd.Series, dtype=str\n",
    "    return: DateTimeRange\n",
    "    '''\n",
    "    if type(range1)!=datetimerange.DateTimeRange:\n",
    "        range1 = DateTimeRange(range1.iloc[0], range1.iloc[-1])\n",
    "    if type(range2)!=datetimerange.DateTimeRange:    \n",
    "        range2 = DateTimeRange(range2.iloc[0], range2.iloc[-1])\n",
    "    return range1.intersection(range2)\n",
    "\n",
    "def get_overlap(dataset, daily, sp500_range):\n",
    "    '''\n",
    "    get overlapped time range between sp500 and all other daily-measured series.\n",
    "    \n",
    "    daily: daily-measured series id set\n",
    "    sp500_range: pd.series\n",
    "    return: time_range\n",
    "            ignored series(no overlap with sp500)\n",
    "    \n",
    "    '''\n",
    "    overlap = sp500_range\n",
    "    ignore=set()\n",
    "    for series in daily:\n",
    "        if series=='SP500':\n",
    "            continue\n",
    "        # there are series with no data!\n",
    "        if len(train[train['series_id']==series])==0:\n",
    "            ignore.add(series)\n",
    "            continue\n",
    "\n",
    "        range2=dataset[dataset['series_id']==series]['date']\n",
    "        temp = find_overlap_date(overlap, range2)\n",
    "#         print(temp)\n",
    "        if str(temp)=='NaT - NaT':\n",
    "            ignore.add(series)\n",
    "        else:\n",
    "            overlap = temp\n",
    "            \n",
    "            \n",
    "    overlap.start_time_format = \"%Y-%m-%d\"\n",
    "    overlap.end_time_format = \"%Y-%m-%d\"\n",
    "    \n",
    "    return overlap, ignore"
   ]
  },
  {
   "cell_type": "code",
   "execution_count": 124,
   "metadata": {},
   "outputs": [],
   "source": [
    "sp=train[train['series_id']=='SP500']\n",
    "overlap, ignore = get_overlap(train, daily, sp['date'])"
   ]
  },
  {
   "cell_type": "code",
   "execution_count": 125,
   "metadata": {},
   "outputs": [
    {
     "data": {
      "text/plain": [
       "2016-03-01 - 2017-12-29"
      ]
     },
     "execution_count": 125,
     "metadata": {},
     "output_type": "execute_result"
    }
   ],
   "source": [
    "overlap"
   ]
  },
  {
   "cell_type": "code",
   "execution_count": 126,
   "metadata": {},
   "outputs": [
    {
     "data": {
      "text/plain": [
       "{'DEXJPUS', 'SOFR', 'SOFRVOL'}"
      ]
     },
     "execution_count": 126,
     "metadata": {},
     "output_type": "execute_result"
    }
   ],
   "source": [
    "ignore"
   ]
  },
  {
   "cell_type": "code",
   "execution_count": 129,
   "metadata": {},
   "outputs": [],
   "source": [
    "sp500_train = sp[sp['date_t'].isin(overlap.range(datetime.timedelta(days=1)))]['value']"
   ]
  },
  {
   "cell_type": "code",
   "execution_count": 130,
   "metadata": {},
   "outputs": [
    {
     "data": {
      "text/plain": [
       "479"
      ]
     },
     "execution_count": 130,
     "metadata": {},
     "output_type": "execute_result"
    }
   ],
   "source": [
    "len(sp500_train)"
   ]
  },
  {
   "cell_type": "code",
   "execution_count": null,
   "metadata": {},
   "outputs": [],
   "source": []
  }
 ],
 "metadata": {
  "kernelspec": {
   "display_name": "Python 3",
   "language": "python",
   "name": "python3"
  },
  "language_info": {
   "codemirror_mode": {
    "name": "ipython",
    "version": 3
   },
   "file_extension": ".py",
   "mimetype": "text/x-python",
   "name": "python",
   "nbconvert_exporter": "python",
   "pygments_lexer": "ipython3",
   "version": "3.7.6"
  }
 },
 "nbformat": 4,
 "nbformat_minor": 4
}
